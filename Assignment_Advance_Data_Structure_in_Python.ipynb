{
  "nbformat": 4,
  "nbformat_minor": 0,
  "metadata": {
    "colab": {
      "provenance": []
    },
    "kernelspec": {
      "name": "python3",
      "display_name": "Python 3"
    },
    "language_info": {
      "name": "python"
    }
  },
  "cells": [
    {
      "cell_type": "markdown",
      "source": [
        "#**Assignment : Data Structure Advance : Kishore Rawat**"
      ],
      "metadata": {
        "id": "6yPqsOBrWkD9"
      }
    },
    {
      "cell_type": "markdown",
      "source": [
        "##Q.1 Write a code to reverse a string."
      ],
      "metadata": {
        "id": "iQh3fb5Ba85r"
      }
    },
    {
      "cell_type": "markdown",
      "source": [
        "##Ans. Code to reverse a string:"
      ],
      "metadata": {
        "id": "RKxU_qm1bI60"
      }
    },
    {
      "cell_type": "code",
      "source": [
        "def reverse_string(string):\n",
        "  reversed_string = \"\"\n",
        "  for i in range(len(string)-1, -1, -1):\n",
        "    reversed_string += string[i]\n",
        "  return reversed_string\n",
        "\n",
        "input_string = \"Kishore Rawat\"\n",
        "reversed_string = reverse_string(input_string)\n",
        "print(reversed_string)"
      ],
      "metadata": {
        "colab": {
          "base_uri": "https://localhost:8080/"
        },
        "id": "zB-I9-CdKnPy",
        "outputId": "2ad15910-eb3d-4b52-b9fe-7d7bb05c10b0"
      },
      "execution_count": 11,
      "outputs": [
        {
          "output_type": "stream",
          "name": "stdout",
          "text": [
            "tawaR erohsiK\n"
          ]
        }
      ]
    },
    {
      "cell_type": "markdown",
      "source": [
        "---------------------------------------------------------------------------------"
      ],
      "metadata": {
        "id": "P8ZyuhEAbqZ6"
      }
    },
    {
      "cell_type": "markdown",
      "source": [
        "##Q.2 Write a code to count the numbers of vowels in a string."
      ],
      "metadata": {
        "id": "UfplLjSUcQyp"
      }
    },
    {
      "cell_type": "markdown",
      "source": [
        "##Ans. Code to count the numbers of vowels in a string:"
      ],
      "metadata": {
        "id": "rWCH27znckVI"
      }
    },
    {
      "cell_type": "code",
      "source": [
        "def count_vowels(string):\n",
        "    vowels = \"aeiouAEIOU\"\n",
        "    count = 0\n",
        "    for char in string:\n",
        "        if char in vowels:\n",
        "            count += 1\n",
        "    return count\n",
        "\n",
        "\n",
        "input_string = \"Kishore Rawat\"\n",
        "vowel_count = count_vowels(input_string)\n",
        "print(vowel_count)"
      ],
      "metadata": {
        "colab": {
          "base_uri": "https://localhost:8080/"
        },
        "id": "n8yAIPYobaI6",
        "outputId": "afd05e81-971a-4d0b-b401-a0d387e062a5"
      },
      "execution_count": null,
      "outputs": [
        {
          "output_type": "stream",
          "name": "stdout",
          "text": [
            "5\n"
          ]
        }
      ]
    },
    {
      "cell_type": "markdown",
      "source": [
        "--------------------------------------------------------------------------------------------"
      ],
      "metadata": {
        "id": "8h70QUHfkbAU"
      }
    },
    {
      "cell_type": "markdown",
      "source": [
        "##Q.3 Write a code to check if a given string is a palindrome or not."
      ],
      "metadata": {
        "id": "lBPLXlBifYo4"
      }
    },
    {
      "cell_type": "markdown",
      "source": [
        "##Ans. code to check if a given string is a palindrome or not:"
      ],
      "metadata": {
        "id": "fsBr44xXftqQ"
      }
    },
    {
      "cell_type": "code",
      "source": [
        "def is_palindrome(s):\n",
        "  s = s.lower().replace(\" \", \"\")\n",
        "  return s == s[::-1]\n",
        "\n",
        "# Example usage\n",
        "string1 = \"madam\"\n",
        "string2 = \"racecar\"\n",
        "string3 = \"apple\"\n",
        "\n",
        "print(f\"'{string1}' is a palindrome: {is_palindrome(string1)}\")\n",
        "print(f\"'{string2}' is a palindrome: {is_palindrome(string2)}\")\n",
        "print(f\"'{string3}' is a palindrome: {is_palindrome(string3)}\")"
      ],
      "metadata": {
        "colab": {
          "base_uri": "https://localhost:8080/"
        },
        "id": "J2wBF8o2eWYb",
        "outputId": "af86ee21-9990-482f-9400-1814f5002560"
      },
      "execution_count": null,
      "outputs": [
        {
          "output_type": "stream",
          "name": "stdout",
          "text": [
            "'madam' is a palindrome: True\n",
            "'racecar' is a palindrome: True\n",
            "'apple' is a palindrome: False\n"
          ]
        }
      ]
    },
    {
      "cell_type": "markdown",
      "source": [
        "-------------------------------------------------------------------------------------"
      ],
      "metadata": {
        "id": "Kb64Z2qYkeC_"
      }
    },
    {
      "cell_type": "markdown",
      "source": [
        "##Q.4 Write a code to check if two given string are anagrams of each other."
      ],
      "metadata": {
        "id": "gPGxY5KUdWFv"
      }
    },
    {
      "cell_type": "markdown",
      "source": [
        "##Ans. Code to check if a given string are anagrams of each other:"
      ],
      "metadata": {
        "id": "lTWuvLXqd2pt"
      }
    },
    {
      "cell_type": "code",
      "source": [
        "def are_anagrams(str1, str2):\n",
        "  str1 = str1.lower()\n",
        "  str2 = str2.lower()\n",
        "  return sorted(str1.lower()) == sorted(str2.lower())\n",
        "print(are_anagrams(\"Kishore\", \"Rawat\"))"
      ],
      "metadata": {
        "colab": {
          "base_uri": "https://localhost:8080/"
        },
        "id": "sQy5yfJbedac",
        "outputId": "2c873ee3-3476-4050-ccf9-e9bdcdcbd713"
      },
      "execution_count": null,
      "outputs": [
        {
          "output_type": "stream",
          "name": "stdout",
          "text": [
            "False\n"
          ]
        }
      ]
    },
    {
      "cell_type": "markdown",
      "source": [
        "-----------------------------------------------------------------------------------"
      ],
      "metadata": {
        "id": "BQhpOOVSkg9G"
      }
    },
    {
      "cell_type": "markdown",
      "source": [
        "##Q.5 Write a code to find all occurrences of a given substring within another string.\n"
      ],
      "metadata": {
        "id": "fftoe6gienx6"
      }
    },
    {
      "cell_type": "markdown",
      "source": [
        "##Ans. Code to find all occurrences of a given substring within another string:"
      ],
      "metadata": {
        "id": "dfo5UEBBhgDJ"
      }
    },
    {
      "cell_type": "code",
      "source": [
        "def find_occurrences(string, substring):\n",
        "  occurrences = []\n",
        "  start = 0\n",
        "  while True:\n",
        "    index = string.find(substring, start)\n",
        "    if index == -1:\n",
        "      break\n",
        "    occurrences.append(index)\n",
        "    start = index + 1\n",
        "  return occurrences\n",
        "\n",
        "string = \"This is a new dish.\"\n",
        "substring = \"is\"\n",
        "occurrences = find_occurrences(string, substring)\n",
        "print(occurrences)\n"
      ],
      "metadata": {
        "colab": {
          "base_uri": "https://localhost:8080/"
        },
        "id": "Lry6zBERemE1",
        "outputId": "b961cd10-b226-42e3-fc5a-ce1228787f0b"
      },
      "execution_count": 4,
      "outputs": [
        {
          "output_type": "stream",
          "name": "stdout",
          "text": [
            "[2, 5, 15]\n"
          ]
        }
      ]
    },
    {
      "cell_type": "markdown",
      "source": [
        "--------------------------------------------------------------------------------------"
      ],
      "metadata": {
        "id": "C1jpg2jbkjs3"
      }
    },
    {
      "cell_type": "markdown",
      "source": [
        "##Q.6 Write a code to perform basic string compression using the counts of repeated characters."
      ],
      "metadata": {
        "id": "mjZxjxKpiFWu"
      }
    },
    {
      "cell_type": "markdown",
      "source": [
        "##Ans Code to perform basic string compression using the counts of repeated characters:"
      ],
      "metadata": {
        "id": "mTVPnnasierq"
      }
    },
    {
      "cell_type": "code",
      "source": [
        "def compress_string(string):\n",
        "  compressed_string = \"\"\n",
        "  count = 1\n",
        "  for i in range(1, len(string)):\n",
        "    if string[i] == string[i-1]:\n",
        "      count += 1\n",
        "    else:\n",
        "      compressed_string += string[i-1] + str(count)\n",
        "      count = 1\n",
        "\n",
        "input_string = \"aaabbccccd\"\n",
        "compressed_string = compress_string(input_string)\n",
        "print(compressed_string)"
      ],
      "metadata": {
        "colab": {
          "base_uri": "https://localhost:8080/"
        },
        "id": "bd7A1LYtkDfJ",
        "outputId": "9cac1ae9-c46b-4cd8-d4c4-31526bce2950"
      },
      "execution_count": 6,
      "outputs": [
        {
          "output_type": "stream",
          "name": "stdout",
          "text": [
            "None\n"
          ]
        }
      ]
    },
    {
      "cell_type": "markdown",
      "source": [
        "-----------------------------------------------------------------------------------"
      ],
      "metadata": {
        "id": "eJ21j27JkmIV"
      }
    },
    {
      "cell_type": "markdown",
      "source": [
        "##Q.7 Write a code to determine if a string has all unique characters."
      ],
      "metadata": {
        "id": "2V_z3aOjjFdk"
      }
    },
    {
      "cell_type": "markdown",
      "source": [
        "##Ans. code to determine if a string has all unique characters:"
      ],
      "metadata": {
        "id": "vGCcHpIyjT7t"
      }
    },
    {
      "cell_type": "code",
      "source": [
        "def has_unique_chars(string):\n",
        "  char_set = set()\n",
        "  for char in string:\n",
        "    if char in char_set:\n",
        "      return False\n",
        "    char_set.add(char)\n",
        "  return True\n",
        "\n",
        "input_string = \"abcdefg\"\n",
        "if has_unique_chars(input_string):\n",
        "  print(\"The string has all unique characters.\")\n",
        "else:\n",
        "  print(\"The string does not have all unique characters.\")"
      ],
      "metadata": {
        "colab": {
          "base_uri": "https://localhost:8080/"
        },
        "id": "uTCj0A0FKsGR",
        "outputId": "641bf9d8-794c-4a19-d132-0edf2bd9be73"
      },
      "execution_count": 12,
      "outputs": [
        {
          "output_type": "stream",
          "name": "stdout",
          "text": [
            "The string has all unique characters.\n"
          ]
        }
      ]
    },
    {
      "cell_type": "markdown",
      "source": [
        "--------------------------------------------------------------------------------------"
      ],
      "metadata": {
        "id": "bZuiW5oOkYYa"
      }
    },
    {
      "cell_type": "markdown",
      "source": [
        "##Q.8 Write a code to convert a given string in uppercase & lowercase."
      ],
      "metadata": {
        "id": "JQGRFIHbkr48"
      }
    },
    {
      "cell_type": "markdown",
      "source": [
        "##Ans Code to convert a given string in uppercase & lowercase:"
      ],
      "metadata": {
        "id": "mSETnZl_n3p1"
      }
    },
    {
      "cell_type": "code",
      "source": [
        "input_string = \"Kishore Rawat\"\n",
        "uppercase_string = input_string.upper()\n",
        "lowercase_string = input_string.lower()\n",
        "print(uppercase_string)\n",
        "print(lowercase_string)\n"
      ],
      "metadata": {
        "colab": {
          "base_uri": "https://localhost:8080/"
        },
        "id": "W9GksQt7jx-b",
        "outputId": "ca52a0ba-0a55-4049-b2b2-5e3cb6f34a88"
      },
      "execution_count": null,
      "outputs": [
        {
          "output_type": "stream",
          "name": "stdout",
          "text": [
            "KISHORE RAWAT\n",
            "kishore rawat\n"
          ]
        }
      ]
    },
    {
      "cell_type": "markdown",
      "source": [
        "----------------------------------------------------------------------------------------------------------------------------"
      ],
      "metadata": {
        "id": "GCNKpn-soQUh"
      }
    },
    {
      "cell_type": "markdown",
      "source": [
        "##Q.9 Write a code to count the number of words in string."
      ],
      "metadata": {
        "id": "TvEPdurooUEI"
      }
    },
    {
      "cell_type": "markdown",
      "source": [
        "##Ans. Code to count the number of words in string:"
      ],
      "metadata": {
        "id": "61Y2J0BpojJc"
      }
    },
    {
      "cell_type": "code",
      "source": [
        "string = \"This_is_a_new_dish.\"\n",
        "word_count = len(string)\n",
        "print(word_count)"
      ],
      "metadata": {
        "colab": {
          "base_uri": "https://localhost:8080/"
        },
        "id": "QHsEoqYzoKHJ",
        "outputId": "ad7d19de-9187-40e3-df9f-b22210d994c4"
      },
      "execution_count": null,
      "outputs": [
        {
          "output_type": "stream",
          "name": "stdout",
          "text": [
            "19\n"
          ]
        }
      ]
    },
    {
      "cell_type": "markdown",
      "source": [
        "---------------------------------------------------------------------------------------------------------------"
      ],
      "metadata": {
        "id": "_JenWAZcpQ_e"
      }
    },
    {
      "cell_type": "markdown",
      "source": [
        "##Q.10 Write a code to concatenate two string without using the + operator."
      ],
      "metadata": {
        "id": "5XBqTEl8pTts"
      }
    },
    {
      "cell_type": "markdown",
      "source": [
        "##Ans. Code to concatenate two string without using the + operator:"
      ],
      "metadata": {
        "id": "58HrVt7DpqHX"
      }
    },
    {
      "cell_type": "code",
      "source": [
        "str1 = \"Kishore\"\n",
        "str2 = \" Rawat\"\n",
        "str1 = \"\".join([str1, str2])\n",
        "print(str1)\n"
      ],
      "metadata": {
        "colab": {
          "base_uri": "https://localhost:8080/"
        },
        "id": "6oZMhsA2otny",
        "outputId": "b65939ae-765b-4d86-cfd1-ab61e4d27c7e"
      },
      "execution_count": null,
      "outputs": [
        {
          "output_type": "stream",
          "name": "stdout",
          "text": [
            "Kishore Rawat\n"
          ]
        }
      ]
    },
    {
      "cell_type": "markdown",
      "source": [
        "----------------------------------------------------------------------------------------------------------------"
      ],
      "metadata": {
        "id": "WzE9Z88pp76R"
      }
    },
    {
      "cell_type": "markdown",
      "source": [
        "##Q.11 Write a code to remove all occurrences of a specific element from a list."
      ],
      "metadata": {
        "id": "uUB4QgH0p-u_"
      }
    },
    {
      "cell_type": "markdown",
      "source": [
        "##Ans. Code to remove all occurrences of a specific element from a list:"
      ],
      "metadata": {
        "id": "8J_iLSWxqUxt"
      }
    },
    {
      "cell_type": "code",
      "source": [
        "list = [1, 2, 3, 4, 2, 5, 6, 2]\n",
        "element = 2\n",
        "list = [x for x in list if x != element]\n",
        "print(list)"
      ],
      "metadata": {
        "colab": {
          "base_uri": "https://localhost:8080/"
        },
        "id": "bVVexvr6qg-x",
        "outputId": "d0d350c8-43b9-4fc9-fd2f-4dfc14258b8c"
      },
      "execution_count": null,
      "outputs": [
        {
          "output_type": "stream",
          "name": "stdout",
          "text": [
            "[1, 3, 4, 5, 6]\n"
          ]
        }
      ]
    },
    {
      "cell_type": "markdown",
      "source": [
        "---------------------------------------------------------------------------------------------------------------"
      ],
      "metadata": {
        "id": "g687_kwuq3RG"
      }
    },
    {
      "cell_type": "markdown",
      "source": [
        "##Q.12 Implement a code to find a second largest number in a given list of integer."
      ],
      "metadata": {
        "id": "kPl9UQlgq5_d"
      }
    },
    {
      "cell_type": "markdown",
      "source": [
        "##Ans. Code to find a second largest number in a given list of integer:"
      ],
      "metadata": {
        "id": "MDZEkuLQq5y3"
      }
    },
    {
      "cell_type": "code",
      "source": [
        "list = [1, 2, 3, 4, 5, 6, 7, 8, 9]\n",
        "list.sort()\n",
        "second_largest = list[-2]\n",
        "print(second_largest)"
      ],
      "metadata": {
        "colab": {
          "base_uri": "https://localhost:8080/"
        },
        "id": "J7BMmpTEqnlY",
        "outputId": "0ced699f-0454-47b8-f535-9852252078b5"
      },
      "execution_count": null,
      "outputs": [
        {
          "output_type": "stream",
          "name": "stdout",
          "text": [
            "8\n"
          ]
        }
      ]
    },
    {
      "cell_type": "markdown",
      "source": [
        "-----------------------------------------------------------------------------------------------------------------------"
      ],
      "metadata": {
        "id": "GDr3DTWJriJc"
      }
    },
    {
      "cell_type": "markdown",
      "source": [
        "##Q.13 Create a code to count the occurrences of each element in a list and return a dictonary with elements as keys and their counts as values."
      ],
      "metadata": {
        "id": "caQ6HTDKrh7y"
      }
    },
    {
      "cell_type": "markdown",
      "source": [
        "##Ans. Code to count the occurrences of each element in a list and return a dictonary with elements as keys and their counts as values:"
      ],
      "metadata": {
        "id": "bYCnjtRTrhsj"
      }
    },
    {
      "cell_type": "code",
      "source": [
        "my_list = [1, 2, 2, 3, 3, 3, 4, 4, 4, 4]\n",
        "occurrences = {}\n",
        "for item in my_list:\n",
        "  if item in occurrences:\n",
        "    occurrences[item] += 1\n",
        "  else:\n",
        "    occurrences[item] = 1\n",
        "print(occurrences)"
      ],
      "metadata": {
        "colab": {
          "base_uri": "https://localhost:8080/"
        },
        "id": "XhEkSzOvsnXD",
        "outputId": "3da98aa2-f250-463a-b0b1-d5625f7257d9"
      },
      "execution_count": null,
      "outputs": [
        {
          "output_type": "stream",
          "name": "stdout",
          "text": [
            "{1: 1, 2: 2, 3: 3, 4: 4}\n"
          ]
        }
      ]
    },
    {
      "cell_type": "markdown",
      "source": [
        "--------------------------------------------------------------------------------------------------------"
      ],
      "metadata": {
        "id": "rdLhB4q6tBYv"
      }
    },
    {
      "cell_type": "markdown",
      "source": [
        "##Q.14 Write a code to reverse a list in-place without using any built-in reverse function."
      ],
      "metadata": {
        "id": "xErEn4sOtBNK"
      }
    },
    {
      "cell_type": "markdown",
      "source": [
        "##Ans: code to reverse a list in-place without using any built-in reverse function:"
      ],
      "metadata": {
        "id": "g7T5VCsztA_N"
      }
    },
    {
      "cell_type": "code",
      "source": [
        "list = [1, 2, 3, 4, 5]\n",
        "start = 0\n",
        "end = len(list) - 1\n",
        "while start < end:\n",
        "  list[start], list[end] = list[end], list[start]\n",
        "  start += 1\n",
        "  end -= 1\n",
        "print(list)"
      ],
      "metadata": {
        "colab": {
          "base_uri": "https://localhost:8080/"
        },
        "id": "to0d86u6b4eg",
        "outputId": "88f71fa2-8554-4656-b3d2-eaef8bf705cd"
      },
      "execution_count": null,
      "outputs": [
        {
          "output_type": "stream",
          "name": "stdout",
          "text": [
            "[5, 4, 3, 2, 1]\n"
          ]
        }
      ]
    },
    {
      "cell_type": "markdown",
      "source": [
        "-------------------------------------------------------------------------------------------------------------------"
      ],
      "metadata": {
        "id": "BcGck0MaXnBv"
      }
    },
    {
      "cell_type": "markdown",
      "source": [
        "##Q.15 Implement a code to find and remove any duplicates from a list while preserving the original order of elements."
      ],
      "metadata": {
        "id": "Yw7x86gbXm4h"
      }
    },
    {
      "cell_type": "markdown",
      "source": [
        "##Ans. code to find and remove any duplicates from a list while preserving the original order of elements:"
      ],
      "metadata": {
        "id": "IB9hxmMQXmuu"
      }
    },
    {
      "cell_type": "code",
      "source": [
        "list = [1, 2, 3, 4, 2, 5, 6, 2]\n",
        "unique_list = []\n",
        "for item in list:\n",
        "  if item not in unique_list:\n",
        "    unique_list.append(item)\n",
        "    list = unique_list\n",
        "print(list)"
      ],
      "metadata": {
        "colab": {
          "base_uri": "https://localhost:8080/"
        },
        "id": "MIE1R6DfYdkA",
        "outputId": "e11b24c7-671b-4106-eb54-a52d55a5c204"
      },
      "execution_count": null,
      "outputs": [
        {
          "output_type": "stream",
          "name": "stdout",
          "text": [
            "[1, 2, 3, 4, 5, 6]\n"
          ]
        }
      ]
    },
    {
      "cell_type": "markdown",
      "source": [
        "----------------------------------------------------------------------------------------------------------------"
      ],
      "metadata": {
        "id": "YTQdzXi1YlXh"
      }
    },
    {
      "cell_type": "markdown",
      "source": [
        "#Q.16 Create a code to check if a given list is sorted (either in ascending or desending order) or not."
      ],
      "metadata": {
        "id": "XsbozX9vYlOu"
      }
    },
    {
      "cell_type": "markdown",
      "source": [
        "##Ans. Code to check if a given list is sorted (either in ascending or desending order) or not:"
      ],
      "metadata": {
        "id": "XBk4Kk1CYlFW"
      }
    },
    {
      "cell_type": "code",
      "source": [
        "list_1 = [1, 2, 3, 4, 5]\n",
        "list_2 = [5, 4, 3, 2, 1]\n",
        "list_3 = [1, 3, 2, 5, 4]\n",
        "print(is_sorted(list_1))\n",
        "print(is_sorted(list_2))\n",
        "print(is_sorted(list_3))"
      ],
      "metadata": {
        "colab": {
          "base_uri": "https://localhost:8080/"
        },
        "id": "yoz0UnBUZ6gj",
        "outputId": "eea4af1a-4261-46c5-9a5c-77965f5272d1"
      },
      "execution_count": null,
      "outputs": [
        {
          "output_type": "stream",
          "name": "stdout",
          "text": [
            "True\n",
            "True\n",
            "False\n"
          ]
        }
      ]
    },
    {
      "cell_type": "markdown",
      "source": [
        "----------------------------------------------------------------------------------------------------------------"
      ],
      "metadata": {
        "id": "uzbNmiiTaM_W"
      }
    },
    {
      "cell_type": "markdown",
      "source": [
        "##17. Write a code to merge two shorted lists into a single shorted list."
      ],
      "metadata": {
        "id": "4i2Ap63vaM2u"
      }
    },
    {
      "cell_type": "markdown",
      "source": [
        "##Ans. Code to merge two shorted lists into a single shorted list:"
      ],
      "metadata": {
        "id": "gQC9LZ9RaMt-"
      }
    },
    {
      "cell_type": "code",
      "source": [
        "list1 = [1, 3, 5, 7]\n",
        "list2 = [2, 4, 6, 8]\n",
        "merged_list = list1 + list2\n",
        "merged_list.sort()\n",
        "print(merged_list)"
      ],
      "metadata": {
        "colab": {
          "base_uri": "https://localhost:8080/"
        },
        "id": "MjdJJUNbZ7E8",
        "outputId": "c49aa695-f083-4fec-a2ce-fd9419827066"
      },
      "execution_count": null,
      "outputs": [
        {
          "output_type": "stream",
          "name": "stdout",
          "text": [
            "[1, 2, 3, 4, 5, 6, 7, 8]\n"
          ]
        }
      ]
    },
    {
      "cell_type": "markdown",
      "source": [
        "------------------------------------------------------------------------------------------------------------"
      ],
      "metadata": {
        "id": "YAZWUAJxeiE-"
      }
    },
    {
      "cell_type": "markdown",
      "source": [
        "##Q.18 Implement a code to find the intersection of two given list."
      ],
      "metadata": {
        "id": "CRom-5FEeh78"
      }
    },
    {
      "cell_type": "markdown",
      "source": [
        "##Ans. code to find the intersection of two given list:"
      ],
      "metadata": {
        "id": "GnTvNdDeehyH"
      }
    },
    {
      "cell_type": "code",
      "source": [
        "def find_intersection(list1, list2):\n",
        "  intersection = [value for value in list1 if value in list2]\n",
        "  return intersection\n",
        "\n",
        "# Example usage:\n",
        "list1 = [1, 2, 3, 4, 5]\n",
        "list2 = [3, 5, 6, 7, 8]\n",
        "\n",
        "intersection_result = find_intersection(list1, list2)\n",
        "print(intersection_result)"
      ],
      "metadata": {
        "colab": {
          "base_uri": "https://localhost:8080/"
        },
        "id": "9IPhviUkjZ64",
        "outputId": "07429255-de71-46db-b2b4-508a9ed5224a"
      },
      "execution_count": null,
      "outputs": [
        {
          "output_type": "stream",
          "name": "stdout",
          "text": [
            "[3, 5]\n"
          ]
        }
      ]
    },
    {
      "cell_type": "markdown",
      "source": [
        "-----------------------------------------------------------------------------------------------------------"
      ],
      "metadata": {
        "id": "YsSST1kokUkm"
      }
    },
    {
      "cell_type": "markdown",
      "source": [
        "##Q.19 Create a code to find a union of two lists without duplicates."
      ],
      "metadata": {
        "id": "kcIHigOZkUbt"
      }
    },
    {
      "cell_type": "markdown",
      "source": [
        "##Ans. Code to find a union of two lists without duplicates:"
      ],
      "metadata": {
        "id": "qfw4BVNwkUSQ"
      }
    },
    {
      "cell_type": "code",
      "source": [
        "list1 = [1, 2, 3, 4, 5]\n",
        "list2 = [3, 5, 6, 7, 8]\n",
        "union = list1 + list2\n",
        "duplicate = set([x for x in union if union.count(x) > 1])\n",
        "union = [x for x in union if x not in duplicate]\n",
        "print(union)"
      ],
      "metadata": {
        "colab": {
          "base_uri": "https://localhost:8080/"
        },
        "id": "T6RhSJm1j-LF",
        "outputId": "c571b0f4-4ad6-4b79-976b-4167d38a9b84"
      },
      "execution_count": null,
      "outputs": [
        {
          "output_type": "stream",
          "name": "stdout",
          "text": [
            "[1, 2, 4, 6, 7, 8]\n"
          ]
        }
      ]
    },
    {
      "cell_type": "markdown",
      "source": [
        "---------------------------------------------------------------------------------------------------------------------------------"
      ],
      "metadata": {
        "id": "ulzAqSZHnlV7"
      }
    },
    {
      "cell_type": "markdown",
      "source": [
        "##Q.20 Write a code to suffle a given list randomely without using any built-in suffle function."
      ],
      "metadata": {
        "id": "hHqhfPO_nlM2"
      }
    },
    {
      "cell_type": "markdown",
      "source": [
        "##Ans. Code to suffle a given list randomely without using any built-in suffle function:"
      ],
      "metadata": {
        "id": "jW11ZfbLnlDl"
      }
    },
    {
      "cell_type": "code",
      "source": [
        "import random\n",
        "\n",
        "def shuffle_list(my_list):\n",
        "  n = len(my_list)\n",
        "  for i in range(n - 1, 0, -1):\n",
        "    j = random.randint(0, i)\n",
        "    my_list[i], my_list[j] = my_list[j], my_list[i]\n",
        "  return my_list\n",
        "\n",
        "my_list = [1, 2, 3, 4, 5, 6, 7, 8, 9]\n",
        "shuffled_list = shuffle_list(my_list)\n",
        "print(shuffled_list)"
      ],
      "metadata": {
        "colab": {
          "base_uri": "https://localhost:8080/"
        },
        "id": "oKqYtAPrp92Q",
        "outputId": "79ea4d71-a437-426a-acbc-a3ffb92b6f7a"
      },
      "execution_count": null,
      "outputs": [
        {
          "output_type": "stream",
          "name": "stdout",
          "text": [
            "[3, 6, 7, 1, 8, 4, 2, 5, 9]\n"
          ]
        }
      ]
    },
    {
      "cell_type": "markdown",
      "source": [
        "-------------------------------------------------------------------------------------------------------"
      ],
      "metadata": {
        "id": "VH53HzbKqPJl"
      }
    },
    {
      "cell_type": "markdown",
      "source": [
        "##Q.21 Write a code that takes two tuples as input and returns a new tuple containing elements that are common to both input tuples."
      ],
      "metadata": {
        "id": "UOKH5Ng8qP5u"
      }
    },
    {
      "cell_type": "markdown",
      "source": [
        "##Ans. code that takes two tuples as input and returns a new tuple containing elements that are common to both input tuples:"
      ],
      "metadata": {
        "id": "StVJwZ1cqQw5"
      }
    },
    {
      "cell_type": "code",
      "source": [
        "tuple_1 = (1, 2, 3, 4, 5)\n",
        "tuple_2 = (4, 5, 6, 7, 8)\n",
        "common_elements = tuple(set(tuple_1) & set(tuple_2))\n",
        "print(common_elements)"
      ],
      "metadata": {
        "colab": {
          "base_uri": "https://localhost:8080/"
        },
        "id": "XxyQ0MXip_B6",
        "outputId": "95e0e465-a69f-47fc-e6bd-98a965ae3841"
      },
      "execution_count": null,
      "outputs": [
        {
          "output_type": "stream",
          "name": "stdout",
          "text": [
            "(4, 5)\n"
          ]
        }
      ]
    },
    {
      "cell_type": "markdown",
      "source": [
        "##Q.22 Create a code that prompts the user to enter two sets of integers separated by commas. Then, print the intersection of these two sets."
      ],
      "metadata": {
        "id": "1B7M8m_qs5M1"
      }
    },
    {
      "cell_type": "markdown",
      "source": [
        "##Ans. code that prompts the user to enter two sets of integers separated by commas. Then, print the intersection of these two sets:"
      ],
      "metadata": {
        "id": "4J53OkH3s5Bf"
      }
    },
    {
      "cell_type": "code",
      "source": [
        "set1 = input(\"Enter the first set of integers separated by commas: \")\n",
        "set2 = input(\"Enter the second set of integers separated by commas: \")\n",
        "set1 = set(map(int, set1.split(\",\")))\n",
        "set2 = set(map(int, set2.split(\",\")))\n",
        "intersection = set1.intersection(set2)\n",
        "print(\"The intersection of the two sets is:\", intersection)"
      ],
      "metadata": {
        "colab": {
          "base_uri": "https://localhost:8080/"
        },
        "id": "pG_OQMcwwXFs",
        "outputId": "218276ab-1725-4bfc-9e97-1140322e3670"
      },
      "execution_count": null,
      "outputs": [
        {
          "output_type": "stream",
          "name": "stdout",
          "text": [
            "Enter the first set of integers separated by commas: 1, 2, 3\n",
            "Enter the second set of integers separated by commas: 2, 3, 4, 5\n",
            "The intersection of the two sets is: {2, 3}\n"
          ]
        }
      ]
    },
    {
      "cell_type": "markdown",
      "source": [
        "--------------------------------------------------------------------------------------------------------------"
      ],
      "metadata": {
        "id": "b2DYKc0xxA8I"
      }
    },
    {
      "cell_type": "markdown",
      "source": [
        "##Q.23 Write a code to concatenate two tuples. The function should take two tuples as input and return a new tuple containing elements from both input tuples."
      ],
      "metadata": {
        "id": "VCMn8CpIxArV"
      }
    },
    {
      "cell_type": "markdown",
      "source": [
        "##Ans. code to concatenate two tuples. The function should take two tuples as input and return a new tuple containing elements from both input tuples:"
      ],
      "metadata": {
        "id": "XWg66i7xxAhA"
      }
    },
    {
      "cell_type": "code",
      "source": [
        "def concatenate_tuples(tuple1, tuple2):\n",
        "  concatenated_tuple = tuple1 + tuple2\n",
        "  return concatenated_tuple\n",
        "\n",
        "# Example usage\n",
        "tuple1 = input(\"Enter a tuple\")\n",
        "tuple2 = input(\"Enter a tuple\")\n",
        "result = concatenate_tuples(tuple1, tuple2)\n",
        "print(result)"
      ],
      "metadata": {
        "colab": {
          "base_uri": "https://localhost:8080/"
        },
        "id": "RaE40LEfxwyi",
        "outputId": "522b7cb8-fb3c-4b8b-a780-11abc45d55fd"
      },
      "execution_count": null,
      "outputs": [
        {
          "output_type": "stream",
          "name": "stdout",
          "text": [
            "Enter a tuple1,2,3\n",
            "Enter a tuple4,5,6\n",
            "1,2,34,5,6\n"
          ]
        }
      ]
    },
    {
      "cell_type": "markdown",
      "source": [
        "-----------------------------------------------------------------------------------------------------------------------"
      ],
      "metadata": {
        "id": "xIXPd4rezpYy"
      }
    },
    {
      "cell_type": "markdown",
      "source": [
        "##Q.24 Develop a code that prompts the user to input two sets of strings. Then, print the elements that are present in the first set but not in the second set."
      ],
      "metadata": {
        "id": "UjqUroWczpPB"
      }
    },
    {
      "cell_type": "markdown",
      "source": [
        "##Ans. Code that prompts the user to input two sets of strings. Then, print the elements that are present in the first set but not in the second set:"
      ],
      "metadata": {
        "id": "hvbHF3_szpET"
      }
    },
    {
      "cell_type": "code",
      "source": [
        "set1 = input(\"Enter the first set of strings separated by commas: \")\n",
        "set2 = input(\"Enter the second set of strings separated by commas: \")\n",
        "set1 = set(set1.split(\",\"))\n",
        "set2 = set(set2.split(\",\"))\n",
        "difference = set1 - set2\n",
        "print(\"The elements that are present in the first set but not in the second set are:\", difference)"
      ],
      "metadata": {
        "colab": {
          "base_uri": "https://localhost:8080/"
        },
        "id": "oxJLCJsiyRBz",
        "outputId": "7e4e36b6-883f-4532-ac3b-13ed78b6c8f3"
      },
      "execution_count": null,
      "outputs": [
        {
          "output_type": "stream",
          "name": "stdout",
          "text": [
            "Enter the first set of strings separated by commas: 1,2,3,4,5\n",
            "Enter the second set of strings separated by commas: 6,5,4,7,8\n",
            "The elements that are present in the first set but not in the second set are: {'1', '2', '3'}\n"
          ]
        }
      ]
    },
    {
      "cell_type": "markdown",
      "source": [
        "-----------------------------------------------------------------------------------------------------------------"
      ],
      "metadata": {
        "id": "tbcHMUp_GER5"
      }
    },
    {
      "cell_type": "markdown",
      "source": [
        "##Q.25 Create a code that takes a tuple and two integers as input. The function should return a new tuple containing elements from the original tuple within the specified range of indices."
      ],
      "metadata": {
        "id": "rmhrOUQHGEIO"
      }
    },
    {
      "cell_type": "markdown",
      "source": [
        "##Ans: Code that takes a tuple and two integers as input. The function should return a new tuple containing elements from the original tuple within the specified range of indices:"
      ],
      "metadata": {
        "id": "wbLwU9ZDGD_2"
      }
    },
    {
      "cell_type": "code",
      "source": [
        "tuple_1 = input(\"Enter two integers\")\n",
        "start_index = 2\n",
        "end_index = 6\n",
        "new_tuple = tuple_1[start_index:end_index+1]\n",
        "print(new_tuple)"
      ],
      "metadata": {
        "colab": {
          "base_uri": "https://localhost:8080/"
        },
        "id": "kPvaGObqGl0c",
        "outputId": "398592bd-e4ac-4729-9681-c988b727b54c"
      },
      "execution_count": null,
      "outputs": [
        {
          "output_type": "stream",
          "name": "stdout",
          "text": [
            "Enter two integers1,2,3,4,5,6,7\n",
            "2,3,4\n"
          ]
        }
      ]
    },
    {
      "cell_type": "markdown",
      "source": [
        "-----------------------------------------------------------------------------------------------------------------------"
      ],
      "metadata": {
        "id": "-DiigDAEIypd"
      }
    },
    {
      "cell_type": "markdown",
      "source": [
        "##Q.26 Write a code that prompts the user to input two sets of characters. Then, print the union of these two sets."
      ],
      "metadata": {
        "id": "TFGMUpBgIydA"
      }
    },
    {
      "cell_type": "markdown",
      "source": [
        "##Ans code that prompts the user to input two sets of characters. Then, print the union of these two sets:"
      ],
      "metadata": {
        "id": "QgSqwp6tIyRf"
      }
    },
    {
      "cell_type": "code",
      "source": [
        "set1 = input(\"Enter the first set of characters separated by commas: \")\n",
        "set2 = input(\"Enter the second set of characters separated by commas: \")\n",
        "set1 = set(set1.split(\",\"))\n",
        "set2 = set(set2.split(\",\"))\n",
        "union = set1.union(set2)\n",
        "print(\"The union of the two sets is:\", union)"
      ],
      "metadata": {
        "colab": {
          "base_uri": "https://localhost:8080/"
        },
        "id": "Xel9uMY3IVUc",
        "outputId": "198267f6-fff0-418a-cd55-85856ccd631c"
      },
      "execution_count": null,
      "outputs": [
        {
          "output_type": "stream",
          "name": "stdout",
          "text": [
            "Enter the first set of characters separated by commas: 1,2,3,4,5,6,7\n",
            "Enter the second set of characters separated by commas: 5,6,7,8,9\n",
            "The union of the two sets is: {'1', '5', '3', '8', '4', '9', '2', '6', '7'}\n"
          ]
        }
      ]
    },
    {
      "cell_type": "markdown",
      "source": [
        "--------------------------------------------------------------------------------------------------------------------------------------------------------------"
      ],
      "metadata": {
        "id": "txQoX5jINyOG"
      }
    },
    {
      "cell_type": "markdown",
      "source": [
        "##Q.27 Develop a code that takes a tuple of integers as input. The function should return the maximum and minimum values from the tuple using tuple unpacking."
      ],
      "metadata": {
        "id": "w_KOAAlKJrqZ"
      }
    },
    {
      "cell_type": "markdown",
      "source": [
        "##Ans: code that takes a tuple of integers as input. The function should return the maximum and minimum values from the tuple using tuple unpacking:"
      ],
      "metadata": {
        "id": "rLaQ5OaCJrfT"
      }
    },
    {
      "cell_type": "code",
      "source": [
        "def find_min_max(numbers):\n",
        "  return min(numbers), max(numbers)\n",
        "\n",
        "numbers_tuple = input(\"Enter a tuple of integers\")\n",
        "numbers_tuple = tuple(map(int, numbers_tuple.split(\",\")))\n",
        "min_value, max_value = find_min_max(numbers_tuple)\n",
        "print(\"Minimum value:\", min_value)\n",
        "print(\"Maximum value:\", max_value)"
      ],
      "metadata": {
        "colab": {
          "base_uri": "https://localhost:8080/"
        },
        "id": "fklMbTF4LMWh",
        "outputId": "c31b7423-c19f-42f8-870c-db87c84f8849"
      },
      "execution_count": null,
      "outputs": [
        {
          "output_type": "stream",
          "name": "stdout",
          "text": [
            "Enter a tuple of integers2,3,4,5\n",
            "Minimum value: 2\n",
            "Maximum value: 5\n"
          ]
        }
      ]
    },
    {
      "cell_type": "markdown",
      "source": [
        "-------------------------------------------------------------------------------------------------------------------------------------"
      ],
      "metadata": {
        "id": "EJ9Fi7gvReaH"
      }
    },
    {
      "cell_type": "markdown",
      "source": [
        "##Q.28 Create a code that defines two sets of integers. Then, print the union, intersection, and difference of these two sets."
      ],
      "metadata": {
        "id": "NWKHVq2WL20p"
      }
    },
    {
      "cell_type": "markdown",
      "source": [
        "## code that defines two sets of integers. Then, print the union, intersection, and difference of these two sets:"
      ],
      "metadata": {
        "id": "LHS7jWHhL2ps"
      }
    },
    {
      "cell_type": "markdown",
      "source": [],
      "metadata": {
        "id": "cbW8tdA4L2d_"
      }
    },
    {
      "cell_type": "code",
      "source": [
        "set_1 = {1, 2, 3, 4, 5}\n",
        "set_2 = {4, 5, 6, 7, 8}\n",
        "union = set_1.union(set_2)\n",
        "intersection = set_1.intersection(set_2)\n",
        "difference = set_1.difference(set_2)\n",
        "print(\"Union:\", union)\n",
        "print(\"Intersection:\", intersection)\n",
        "print(\"Difference:\", difference)"
      ],
      "metadata": {
        "colab": {
          "base_uri": "https://localhost:8080/"
        },
        "id": "7_QPlTVCLN08",
        "outputId": "b09d414d-c5c7-4ae2-a1c6-8ee2e67ba8be"
      },
      "execution_count": null,
      "outputs": [
        {
          "output_type": "stream",
          "name": "stdout",
          "text": [
            "Union: {1, 2, 3, 4, 5, 6, 7, 8}\n",
            "Intersection: {4, 5}\n",
            "Difference: {1, 2, 3}\n"
          ]
        }
      ]
    },
    {
      "cell_type": "markdown",
      "source": [
        "-----------------------------------------------------------------------------------------------------------------------------"
      ],
      "metadata": {
        "id": "QEg8ileHRboi"
      }
    },
    {
      "cell_type": "markdown",
      "source": [
        "##Q.29. Write a code that takes a tuple and an element as input. The function should return the count of occurrences of the given element in the tuple."
      ],
      "metadata": {
        "id": "QxT6g66uOa97"
      }
    },
    {
      "cell_type": "markdown",
      "source": [
        "##Ans. Code that takes a tuple and an element as input. The function should return the count of occurrences of the given element in the tuple:"
      ],
      "metadata": {
        "id": "mAw9qyz5Oa0B"
      }
    },
    {
      "cell_type": "code",
      "source": [
        "def count_occurrences(my_tuple, element):\n",
        "  count = 0\n",
        "  for item in my_tuple:\n",
        "    if item == element:\n",
        "      count += 1\n",
        "  return count\n",
        "\n",
        "my_tuple = input(\"Enter elemenr as\")\n",
        "element_to_count = 2\n",
        "count = count_occurrences(my_tuple, element_to_count)\n",
        "print(f\"The element {element_to_count} appears {count} times in the tuple.\")"
      ],
      "metadata": {
        "colab": {
          "base_uri": "https://localhost:8080/"
        },
        "id": "JFUL_-LGOyBe",
        "outputId": "c9c880ba-053c-471e-b413-11509eec500f"
      },
      "execution_count": null,
      "outputs": [
        {
          "output_type": "stream",
          "name": "stdout",
          "text": [
            "The element 2 appears 3 times in the tuple.\n"
          ]
        }
      ]
    },
    {
      "cell_type": "markdown",
      "source": [
        "-------------------------------------------------------------------------------------------------------"
      ],
      "metadata": {
        "id": "DJwxDFQoRYZf"
      }
    },
    {
      "cell_type": "markdown",
      "source": [
        "##Q.30. Develop a code that prompts the user to input two sets of strings. Then, print the symmetric difference of these two sets."
      ],
      "metadata": {
        "id": "ZIf3H-jvPuXa"
      }
    },
    {
      "cell_type": "markdown",
      "source": [
        "##Ans.  that prompts the user to input two sets of strings. Then, print the symmetric difference of these two sets:"
      ],
      "metadata": {
        "id": "mFC0TisQPuMV"
      }
    },
    {
      "cell_type": "code",
      "source": [
        "user_input1 = input(\"Enter the first set of strings separated by commas: \")\n",
        "user_input2 = input(\"Enter the second set of strings separated by commas: \")\n",
        "set1 = set(user_input1.split(\",\"))\n",
        "set2 = set(user_input2.\n",
        "           split(\",\"))\n",
        "symmetric_difference = set1.symmetric_difference(set2)\n",
        "print(\"The symmetric difference of the two sets is:\", symmetric_difference)"
      ],
      "metadata": {
        "colab": {
          "base_uri": "https://localhost:8080/"
        },
        "id": "IqQhM968PIsv",
        "outputId": "61e7918f-2031-4ea0-b435-1e1a04a182d1"
      },
      "execution_count": null,
      "outputs": [
        {
          "output_type": "stream",
          "name": "stdout",
          "text": [
            "Enter the first set of strings separated by commas: kishore rawat, mukesh rawat\n",
            "Enter the second set of strings separated by commas: ramesh rawat, suresh rawat\n",
            "The symmetric difference of the two sets is: {' suresh rawat', ' mukesh rawat', 'kishore rawat', 'ramesh rawat'}\n"
          ]
        }
      ]
    },
    {
      "cell_type": "markdown",
      "source": [
        "---------------------------------------------------------------------------------------------------------------------"
      ],
      "metadata": {
        "id": "MEsirUdNRqMK"
      }
    },
    {
      "cell_type": "markdown",
      "source": [
        "##Q.31. Write a code that takes a list of words as input and returns a dictionary where the keys are unique words and the values are the frequencies of those words in the input list."
      ],
      "metadata": {
        "id": "OxNczLKhRqBa"
      }
    },
    {
      "cell_type": "markdown",
      "source": [
        "##Ans. Code that takes a list of words as input and returns a dictionary where the keys are unique words and the values are the frequencies of those words in the input list:"
      ],
      "metadata": {
        "id": "LBkr-UiERp4K"
      }
    },
    {
      "cell_type": "code",
      "source": [
        "def word_frequency(words):\n",
        "  frequency_dict = {}\n",
        "  for word in words:\n",
        "    if word in frequency_dict:\n",
        "      frequency_dict[word] += 1\n",
        "    else:\n",
        "      frequency_dict[word] = 1\n",
        "  return frequency_dict\n",
        "\n",
        "dict1 = input(\"Enter the first set of strings separated by commas: \")\n",
        "dict2 = input(\"Enter the second set of strings separated by commas: \")\n",
        "set1 = set(dict1.split(\",\"))\n",
        "set2 = set(dict2.split(\",\"))\n",
        "symmetric_difference = set1.symmetric_difference(set2)\n",
        "print(\"The symmetric difference of the two sets is:\", symmetric_difference)"
      ],
      "metadata": {
        "colab": {
          "base_uri": "https://localhost:8080/"
        },
        "id": "oyNqryqaJ4ic",
        "outputId": "f2bd9fb8-7ce5-4d4d-edf6-7e534f420677"
      },
      "execution_count": 10,
      "outputs": [
        {
          "output_type": "stream",
          "name": "stdout",
          "text": [
            "Enter the first set of strings separated by commas: 1,2,3,4,5\n",
            "Enter the second set of strings separated by commas: 4,5,6,7,8\n",
            "The symmetric difference of the two sets is: {'3', '7', '2', '6', '1', '8'}\n"
          ]
        }
      ]
    },
    {
      "cell_type": "markdown",
      "source": [
        "-----------------------------------------------------------------------------------------------------------"
      ],
      "metadata": {
        "id": "AtPlyguWSmgU"
      }
    },
    {
      "cell_type": "markdown",
      "source": [
        "##Q.32 Write a code that takes two dictionaries as input and merges them into a single dictionary. If there are common keys, the values should be added together."
      ],
      "metadata": {
        "id": "46zk8jkLSmVq"
      }
    },
    {
      "cell_type": "markdown",
      "source": [
        "##Ans. code that takes two dictionaries as input and merges them into a single dictionary. If there are common keys, the values should be added together:"
      ],
      "metadata": {
        "id": "WqwwtpNuSmKF"
      }
    },
    {
      "cell_type": "code",
      "source": [
        "dict1 = {\"a\": 1, \"b\": 2, \"c\": 3}\n",
        "dict2 = {\"b\": 4, \"c\": 5, \"d\": 6}\n",
        "merged_dict = {}\n",
        "for key, value in dict1.items():\n",
        "  merged_dict[key] = value\n",
        "for key, value in dict2.items():\n",
        "  if key in merged_dict:\n",
        "    merged_dict[key] += value\n",
        "  else:\n",
        "    merged_dict[key] = value\n",
        "print(merged_dict)"
      ],
      "metadata": {
        "colab": {
          "base_uri": "https://localhost:8080/"
        },
        "id": "bDqnh_pcTbKw",
        "outputId": "eabbef9b-b871-45d6-c6b9-89c5458bf750"
      },
      "execution_count": null,
      "outputs": [
        {
          "output_type": "stream",
          "name": "stdout",
          "text": [
            "{'a': 1, 'b': 6, 'c': 8, 'd': 6}\n"
          ]
        }
      ]
    },
    {
      "cell_type": "markdown",
      "source": [
        "-----------------------------------------------------------------------------------------------------------"
      ],
      "metadata": {
        "id": "4Tqsfyp7T8Vz"
      }
    },
    {
      "cell_type": "markdown",
      "source": [
        "##Q.33 Write a code to access a value in a nested dictionary. The function should take the dictionary and a list of keys as input, and return the corresponding value. If any of the keys do not exist in the dictionary, the function should return None."
      ],
      "metadata": {
        "id": "Xau2e_0sT8JU"
      }
    },
    {
      "cell_type": "markdown",
      "source": [
        "##Ans. code to access a value in a nested dictionary. The function should take the dictionary and a list of keys as input, and return the corresponding value. If any of the keys do not exist in the dictionary, the function should return None:"
      ],
      "metadata": {
        "id": "Cgz2-sBMT7-G"
      }
    },
    {
      "cell_type": "code",
      "source": [
        "def access_nested_value(nested_dict, keys):\n",
        "  current_dict = nested_dict\n",
        "  for key in keys:\n",
        "    if key in current_dict:\n",
        "      current_dict = current_dict[key]\n",
        "    else:\n",
        "      return None\n",
        "  return current_dict\n",
        "\n",
        "nested_dict = {\"a\": {\"b\": {\"c\": 10}}}\n",
        "keys = [\"a\", \"b\", \"c\"]\n",
        "value = access_nested_value(nested_dict, keys)\n",
        "print(value)"
      ],
      "metadata": {
        "colab": {
          "base_uri": "https://localhost:8080/"
        },
        "id": "58hXxw5JUpgt",
        "outputId": "24aa81d2-254b-4c5b-8bc1-b299c80abfe9"
      },
      "execution_count": null,
      "outputs": [
        {
          "output_type": "stream",
          "name": "stdout",
          "text": [
            "10\n"
          ]
        }
      ]
    },
    {
      "cell_type": "markdown",
      "source": [
        "------------------------------------------------------------------------------------------------------------"
      ],
      "metadata": {
        "id": "5zsG3jMqU4qm"
      }
    },
    {
      "cell_type": "markdown",
      "source": [
        "##Q.34. Write a code that takes a dictionary as input and returns a sorted version of it based on the values. You can choose whether to sort in ascending or descending order."
      ],
      "metadata": {
        "id": "X6K6I2DTU4fc"
      }
    },
    {
      "cell_type": "markdown",
      "source": [
        "##Ans. code that takes a dictionary as input and returns a sorted version of it based on the values. You can choose whether to sort in ascending or descending order:"
      ],
      "metadata": {
        "id": "Sz149pY7U4S5"
      }
    },
    {
      "cell_type": "code",
      "source": [
        "def sort_dictionary_by_values(input_dict, ascending=True):\n",
        "  sorted_items = sorted(input_dict.items(), key=lambda item: item[1], reverse=not ascending)\n",
        "  sorted_dict = {key: value for key, value in sorted_items}\n",
        "  return sorted_dict\n",
        "\n",
        "my_dict = {'apple': 3, 'banana': 1, 'cherry': 2}\n",
        "\n",
        "sorted_dict_asc = sort_dictionary_by_values(my_dict)\n",
        "print(\"Sorted in ascending order:\", sorted_dict_asc)\n",
        "\n",
        "sorted_dict_desc = sort_dictionary_by_values(my_dict, ascending=False)\n",
        "print(\"Sorted in descending order:\", sorted_dict_desc)"
      ],
      "metadata": {
        "colab": {
          "base_uri": "https://localhost:8080/"
        },
        "id": "LqgLvBvWVNYC",
        "outputId": "68f4321a-0f64-4c0b-c737-3ac5cf4b09fe"
      },
      "execution_count": null,
      "outputs": [
        {
          "output_type": "stream",
          "name": "stdout",
          "text": [
            "Sorted in ascending order: {'banana': 1, 'cherry': 2, 'apple': 3}\n",
            "Sorted in descending order: {'apple': 3, 'cherry': 2, 'banana': 1}\n"
          ]
        }
      ]
    },
    {
      "cell_type": "markdown",
      "source": [
        "--------------------------------------------------------------------------------------------"
      ],
      "metadata": {
        "id": "FiOUAy7vV06P"
      }
    },
    {
      "cell_type": "markdown",
      "source": [
        "##Q.35. Write a code that inverts a dictionary, swapping keys and values. Ensure that the inverted dictionary correctly handles cases where multiple keys have the same value by storing the keys as a list in the inverted dictionary."
      ],
      "metadata": {
        "id": "aSXaOqdQVmlZ"
      }
    },
    {
      "cell_type": "markdown",
      "source": [
        "##Ans. code that inverts a dictionary, swapping keys and values. Ensure that the inverted dictionary correctly handles cases where multiple keys have the same value by storing the keys as a list in the inverted dictionary:"
      ],
      "metadata": {
        "id": "2y7UqGLFVmWP"
      }
    },
    {
      "cell_type": "code",
      "source": [
        "def invert_dictionary(input_dict):\n",
        "  inverted_dict = {}\n",
        "  for key, value in input_dict.items():\n",
        "    if value not in inverted_dict:\n",
        "      inverted_dict[value] = [key]\n",
        "    else:\n",
        "      inverted_dict[value].append(key)\n",
        "  return inverted_dict\n",
        "\n",
        "my_dict = {'a': 1, 'b': 2, 'c': 1, 'd': 3}\n",
        "inverted_dict = invert_dictionary(my_dict)\n",
        "print(inverted_dict)  # Output: {1: ['a', 'c'], 2: ['b'], 3: ['d']}"
      ],
      "metadata": {
        "colab": {
          "base_uri": "https://localhost:8080/"
        },
        "id": "GhDDZEd9V_NK",
        "outputId": "df6b80e8-c6de-41d9-fd46-f69eb0140b48"
      },
      "execution_count": null,
      "outputs": [
        {
          "output_type": "stream",
          "name": "stdout",
          "text": [
            "{1: ['a', 'c'], 2: ['b'], 3: ['d']}\n"
          ]
        }
      ]
    },
    {
      "cell_type": "markdown",
      "source": [
        "---------------------------------------------------------------------------------------------------------"
      ],
      "metadata": {
        "id": "wm20WXBgWC7Y"
      }
    },
    {
      "cell_type": "markdown",
      "source": [
        "#**Thank You**"
      ],
      "metadata": {
        "id": "BIyiqA_BWHTD"
      }
    }
  ]
}